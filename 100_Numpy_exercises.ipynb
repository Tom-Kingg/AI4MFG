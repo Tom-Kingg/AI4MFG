{
  "cells": [
    {
      "cell_type": "markdown",
      "metadata": {
        "id": "view-in-github",
        "colab_type": "text"
      },
      "source": [
        "<a href=\"https://colab.research.google.com/github/Tom-Kingg/AI4MFG/blob/main/100_Numpy_exercises.ipynb\" target=\"_parent\"><img src=\"https://colab.research.google.com/assets/colab-badge.svg\" alt=\"Open In Colab\"/></a>"
      ]
    },
    {
      "cell_type": "markdown",
      "id": "3780a226",
      "metadata": {
        "id": "3780a226"
      },
      "source": [
        "# 100 numpy exercises\n",
        "\n",
        "This is a collection of exercises that have been collected in the numpy mailing list, on stack overflow\n",
        "and in the numpy documentation. The goal of this collection is to offer a quick reference for both old\n",
        "and new users but also to provide a set of exercises for those who teach.\n",
        "\n",
        "\n",
        "If you find an error or think you've a better way to solve some of them, feel\n",
        "free to open an issue at <https://github.com/rougier/numpy-100>."
      ]
    },
    {
      "cell_type": "markdown",
      "id": "63ded581",
      "metadata": {
        "id": "63ded581"
      },
      "source": [
        "File automatically generated. See the documentation to update questions/answers/hints programmatically."
      ]
    },
    {
      "cell_type": "markdown",
      "id": "456258e7",
      "metadata": {
        "id": "456258e7"
      },
      "source": [
        "Run the `initialize.py` module, then for each question you can query the\n",
        "answer or an hint with `hint(n)` or `answer(n)` for `n` question number."
      ]
    },
    {
      "cell_type": "code",
      "execution_count": 25,
      "id": "ad8f85b1",
      "metadata": {
        "id": "ad8f85b1"
      },
      "outputs": [],
      "source": []
    },
    {
      "cell_type": "markdown",
      "id": "40518c2e",
      "metadata": {
        "id": "40518c2e"
      },
      "source": [
        "#### 1. Import the numpy package under the name `np` (★☆☆)"
      ]
    },
    {
      "cell_type": "code",
      "execution_count": 26,
      "id": "08ee02d9",
      "metadata": {
        "id": "08ee02d9"
      },
      "outputs": [],
      "source": [
        "import numpy as np"
      ]
    },
    {
      "cell_type": "markdown",
      "id": "47c48198",
      "metadata": {
        "id": "47c48198"
      },
      "source": [
        "#### 2. Print the numpy version and the configuration (★☆☆)"
      ]
    },
    {
      "cell_type": "code",
      "execution_count": 27,
      "id": "8a94ff73",
      "metadata": {
        "colab": {
          "base_uri": "https://localhost:8080/"
        },
        "id": "8a94ff73",
        "outputId": "5920014c-b0b3-452c-8ceb-5abc744b93da"
      },
      "outputs": [
        {
          "output_type": "stream",
          "name": "stdout",
          "text": [
            "np.__version\n",
            "Build Dependencies:\n",
            "  blas:\n",
            "    detection method: pkgconfig\n",
            "    found: true\n",
            "    include directory: /opt/_internal/cpython-3.11.8/lib/python3.11/site-packages/scipy_openblas64/include\n",
            "    lib directory: /opt/_internal/cpython-3.11.8/lib/python3.11/site-packages/scipy_openblas64/lib\n",
            "    name: scipy-openblas\n",
            "    openblas configuration: OpenBLAS 0.3.27  USE64BITINT DYNAMIC_ARCH NO_AFFINITY\n",
            "      Zen MAX_THREADS=64\n",
            "    pc file directory: /project/.openblas\n",
            "    version: 0.3.27\n",
            "  lapack:\n",
            "    detection method: pkgconfig\n",
            "    found: true\n",
            "    include directory: /opt/_internal/cpython-3.11.8/lib/python3.11/site-packages/scipy_openblas64/include\n",
            "    lib directory: /opt/_internal/cpython-3.11.8/lib/python3.11/site-packages/scipy_openblas64/lib\n",
            "    name: scipy-openblas\n",
            "    openblas configuration: OpenBLAS 0.3.27  USE64BITINT DYNAMIC_ARCH NO_AFFINITY\n",
            "      Zen MAX_THREADS=64\n",
            "    pc file directory: /project/.openblas\n",
            "    version: 0.3.27\n",
            "Compilers:\n",
            "  c:\n",
            "    commands: cc\n",
            "    linker: ld.bfd\n",
            "    name: gcc\n",
            "    version: 10.2.1\n",
            "  c++:\n",
            "    commands: c++\n",
            "    linker: ld.bfd\n",
            "    name: gcc\n",
            "    version: 10.2.1\n",
            "  cython:\n",
            "    commands: cython\n",
            "    linker: cython\n",
            "    name: cython\n",
            "    version: 3.0.11\n",
            "Machine Information:\n",
            "  build:\n",
            "    cpu: x86_64\n",
            "    endian: little\n",
            "    family: x86_64\n",
            "    system: linux\n",
            "  host:\n",
            "    cpu: x86_64\n",
            "    endian: little\n",
            "    family: x86_64\n",
            "    system: linux\n",
            "Python Information:\n",
            "  path: /tmp/build-env-zm_4loqi/bin/python\n",
            "  version: '3.11'\n",
            "SIMD Extensions:\n",
            "  baseline:\n",
            "  - SSE\n",
            "  - SSE2\n",
            "  - SSE3\n",
            "  found:\n",
            "  - SSSE3\n",
            "  - SSE41\n",
            "  - POPCNT\n",
            "  - SSE42\n",
            "  - AVX\n",
            "  - F16C\n",
            "  - FMA3\n",
            "  - AVX2\n",
            "  not found:\n",
            "  - AVX512F\n",
            "  - AVX512CD\n",
            "  - AVX512_KNL\n",
            "  - AVX512_KNM\n",
            "  - AVX512_SKX\n",
            "  - AVX512_CLX\n",
            "  - AVX512_CNL\n",
            "  - AVX512_ICL\n",
            "\n"
          ]
        }
      ],
      "source": [
        "print(\"np.__version\")\n",
        "np.show_config()"
      ]
    },
    {
      "cell_type": "markdown",
      "id": "4f405544",
      "metadata": {
        "id": "4f405544"
      },
      "source": [
        "#### 3. Create a null vector of size 10 (★☆☆)"
      ]
    },
    {
      "cell_type": "code",
      "execution_count": 28,
      "id": "4a0d86fc",
      "metadata": {
        "id": "4a0d86fc"
      },
      "outputs": [],
      "source": [
        "null_vector = np.zeros(10)"
      ]
    },
    {
      "cell_type": "markdown",
      "id": "c8754c7a",
      "metadata": {
        "id": "c8754c7a"
      },
      "source": [
        "#### 4. How to find the memory size of any array (★☆☆)"
      ]
    },
    {
      "cell_type": "code",
      "execution_count": 29,
      "id": "4fa4c3e1",
      "metadata": {
        "colab": {
          "base_uri": "https://localhost:8080/"
        },
        "id": "4fa4c3e1",
        "outputId": "18b81ffb-f140-4812-e137-955275e8955d"
      },
      "outputs": [
        {
          "output_type": "execute_result",
          "data": {
            "text/plain": [
              "10"
            ]
          },
          "metadata": {},
          "execution_count": 29
        }
      ],
      "source": [
        "np.size(null_vector)"
      ]
    },
    {
      "cell_type": "markdown",
      "id": "0381891d",
      "metadata": {
        "id": "0381891d"
      },
      "source": [
        "#### 5. How to get the documentation of the numpy add function from the command line? (★☆☆)"
      ]
    },
    {
      "cell_type": "code",
      "execution_count": 30,
      "id": "79c56ec6",
      "metadata": {
        "colab": {
          "base_uri": "https://localhost:8080/"
        },
        "id": "79c56ec6",
        "outputId": "ab0feec7-dbe8-436f-eaba-9dabf76e390b"
      },
      "outputs": [
        {
          "output_type": "stream",
          "name": "stdout",
          "text": [
            "add(x1, x2, /, out=None, *, where=True, casting='same_kind', order='K', dtype=None, subok=True[, signature])\n",
            "\n",
            "Add arguments element-wise.\n",
            "\n",
            "Parameters\n",
            "----------\n",
            "x1, x2 : array_like\n",
            "    The arrays to be added.\n",
            "    If ``x1.shape != x2.shape``, they must be broadcastable to a common\n",
            "    shape (which becomes the shape of the output).\n",
            "out : ndarray, None, or tuple of ndarray and None, optional\n",
            "    A location into which the result is stored. If provided, it must have\n",
            "    a shape that the inputs broadcast to. If not provided or None,\n",
            "    a freshly-allocated array is returned. A tuple (possible only as a\n",
            "    keyword argument) must have length equal to the number of outputs.\n",
            "where : array_like, optional\n",
            "    This condition is broadcast over the input. At locations where the\n",
            "    condition is True, the `out` array will be set to the ufunc result.\n",
            "    Elsewhere, the `out` array will retain its original value.\n",
            "    Note that if an uninitialized `out` array is created via the default\n",
            "    ``out=None``, locations within it where the condition is False will\n",
            "    remain uninitialized.\n",
            "**kwargs\n",
            "    For other keyword-only arguments, see the\n",
            "    :ref:`ufunc docs <ufuncs.kwargs>`.\n",
            "\n",
            "Returns\n",
            "-------\n",
            "add : ndarray or scalar\n",
            "    The sum of `x1` and `x2`, element-wise.\n",
            "    This is a scalar if both `x1` and `x2` are scalars.\n",
            "\n",
            "Notes\n",
            "-----\n",
            "Equivalent to `x1` + `x2` in terms of array broadcasting.\n",
            "\n",
            "Examples\n",
            "--------\n",
            ">>> np.add(1.0, 4.0)\n",
            "5.0\n",
            ">>> x1 = np.arange(9.0).reshape((3, 3))\n",
            ">>> x2 = np.arange(3.0)\n",
            ">>> np.add(x1, x2)\n",
            "array([[  0.,   2.,   4.],\n",
            "       [  3.,   5.,   7.],\n",
            "       [  6.,   8.,  10.]])\n",
            "\n",
            "The ``+`` operator can be used as a shorthand for ``np.add`` on ndarrays.\n",
            "\n",
            ">>> x1 = np.arange(9.0).reshape((3, 3))\n",
            ">>> x2 = np.arange(3.0)\n",
            ">>> x1 + x2\n",
            "array([[ 0.,  2.,  4.],\n",
            "       [ 3.,  5.,  7.],\n",
            "       [ 6.,  8., 10.]])\n"
          ]
        }
      ],
      "source": [
        "!python -c  \"import numpy as np ; np.info(np.add)\"\n"
      ]
    },
    {
      "cell_type": "markdown",
      "id": "fb0edf87",
      "metadata": {
        "id": "fb0edf87"
      },
      "source": [
        "#### 6. Create a null vector of size 10 but the fifth value which is 1 (★☆☆)"
      ]
    },
    {
      "cell_type": "code",
      "execution_count": 31,
      "id": "5b8c3d98",
      "metadata": {
        "colab": {
          "base_uri": "https://localhost:8080/"
        },
        "id": "5b8c3d98",
        "outputId": "a158ba5e-d475-421c-c6d3-464c70d8d07d"
      },
      "outputs": [
        {
          "output_type": "execute_result",
          "data": {
            "text/plain": [
              "array([0., 0., 0., 0., 1., 0., 0., 0., 0., 0.])"
            ]
          },
          "metadata": {},
          "execution_count": 31
        }
      ],
      "source": [
        "null_vector[4] = 1\n",
        "null_vector"
      ]
    },
    {
      "cell_type": "markdown",
      "id": "6aedaa04",
      "metadata": {
        "id": "6aedaa04"
      },
      "source": [
        "#### 7. Create a vector with values ranging from 10 to 49 (★☆☆)"
      ]
    },
    {
      "cell_type": "code",
      "execution_count": 32,
      "id": "399d0f91",
      "metadata": {
        "colab": {
          "base_uri": "https://localhost:8080/"
        },
        "id": "399d0f91",
        "outputId": "e00aa73d-369b-4d8b-b83b-e3dbe8f67af6"
      },
      "outputs": [
        {
          "output_type": "execute_result",
          "data": {
            "text/plain": [
              "array([10, 11, 12, 13, 14, 15, 16, 17, 18, 19, 20, 21, 22, 23, 24, 25, 26,\n",
              "       27, 28, 29, 30, 31, 32, 33, 34, 35, 36, 37, 38, 39, 40, 41, 42, 43,\n",
              "       44, 45, 46, 47, 48, 49])"
            ]
          },
          "metadata": {},
          "execution_count": 32
        }
      ],
      "source": [
        "x = np.arange(10,50)\n",
        "x"
      ]
    },
    {
      "cell_type": "markdown",
      "id": "c05183de",
      "metadata": {
        "id": "c05183de"
      },
      "source": [
        "#### 8. Reverse a vector (first element becomes last) (★☆☆)"
      ]
    },
    {
      "cell_type": "code",
      "execution_count": 33,
      "id": "beb3ed87",
      "metadata": {
        "colab": {
          "base_uri": "https://localhost:8080/"
        },
        "id": "beb3ed87",
        "outputId": "cf32496e-8923-4d52-d669-e0f7101838fe"
      },
      "outputs": [
        {
          "output_type": "execute_result",
          "data": {
            "text/plain": [
              "array([49, 48, 47, 46, 45, 44, 43, 42, 41, 40, 39, 38, 37, 36, 35, 34, 33,\n",
              "       32, 31, 30, 29, 28, 27, 26, 25, 24, 23, 22, 21, 20, 19, 18, 17, 16,\n",
              "       15, 14, 13, 12, 11, 10])"
            ]
          },
          "metadata": {},
          "execution_count": 33
        }
      ],
      "source": [
        "x[::-1]"
      ]
    },
    {
      "cell_type": "markdown",
      "id": "49ffe24b",
      "metadata": {
        "id": "49ffe24b"
      },
      "source": [
        "#### 9. Create a 3x3 matrix with values ranging from 0 to 8 (★☆☆)"
      ]
    },
    {
      "cell_type": "code",
      "execution_count": 34,
      "id": "6bcbb69c",
      "metadata": {
        "colab": {
          "base_uri": "https://localhost:8080/"
        },
        "id": "6bcbb69c",
        "outputId": "9591c698-0668-4aa1-e3c0-f2359766e1cb"
      },
      "outputs": [
        {
          "output_type": "execute_result",
          "data": {
            "text/plain": [
              "array([[0, 1, 2],\n",
              "       [3, 4, 5],\n",
              "       [6, 7, 8]])"
            ]
          },
          "metadata": {},
          "execution_count": 34
        }
      ],
      "source": [
        "x = np.arange(0,9).reshape(3,3)\n",
        "x\n"
      ]
    },
    {
      "cell_type": "markdown",
      "id": "d74c5259",
      "metadata": {
        "id": "d74c5259"
      },
      "source": [
        "#### 10. Find indices of non-zero elements from [1,2,0,0,4,0] (★☆☆)"
      ]
    },
    {
      "cell_type": "code",
      "execution_count": 35,
      "id": "5a70a7b4",
      "metadata": {
        "colab": {
          "base_uri": "https://localhost:8080/"
        },
        "id": "5a70a7b4",
        "outputId": "db8ba604-4aab-4f91-f3be-6202a5c915a4"
      },
      "outputs": [
        {
          "output_type": "execute_result",
          "data": {
            "text/plain": [
              "(array([0, 1, 4]),)"
            ]
          },
          "metadata": {},
          "execution_count": 35
        }
      ],
      "source": [
        "x = [1,2,0,0,4,0]\n",
        "y = np.nonzero(x)\n",
        "\n",
        "y"
      ]
    },
    {
      "cell_type": "markdown",
      "id": "8a986270",
      "metadata": {
        "id": "8a986270"
      },
      "source": [
        "#### 11. Create a 3x3 identity matrix (★☆☆)"
      ]
    },
    {
      "cell_type": "code",
      "execution_count": 36,
      "id": "c681b2ae",
      "metadata": {
        "colab": {
          "base_uri": "https://localhost:8080/"
        },
        "id": "c681b2ae",
        "outputId": "3f046fce-da9d-481e-f1a1-4970beba7aab"
      },
      "outputs": [
        {
          "output_type": "execute_result",
          "data": {
            "text/plain": [
              "array([[1., 0., 0.],\n",
              "       [0., 1., 0.],\n",
              "       [0., 0., 1.]])"
            ]
          },
          "metadata": {},
          "execution_count": 36
        }
      ],
      "source": [
        "x = np.identity(3)\n",
        "x"
      ]
    },
    {
      "cell_type": "markdown",
      "id": "b024a4bf",
      "metadata": {
        "id": "b024a4bf"
      },
      "source": [
        "#### 12. Create a 3x3x3 array with random values (★☆☆)"
      ]
    },
    {
      "cell_type": "code",
      "execution_count": 37,
      "id": "e7b54796",
      "metadata": {
        "colab": {
          "base_uri": "https://localhost:8080/"
        },
        "id": "e7b54796",
        "outputId": "b65bbe5b-3c9c-41ee-920e-11176ecca2df"
      },
      "outputs": [
        {
          "output_type": "execute_result",
          "data": {
            "text/plain": [
              "array([[[8.95763596e-01, 4.75370223e-01, 5.63275572e-01],\n",
              "        [6.95516086e-01, 1.39331454e-01, 6.04417379e-01],\n",
              "        [5.39841091e-01, 2.03061225e-01, 9.42853571e-01]],\n",
              "\n",
              "       [[5.98865466e-01, 6.94784933e-01, 8.80467839e-01],\n",
              "        [6.24354048e-01, 2.95633686e-01, 1.05494260e-01],\n",
              "        [4.56534570e-01, 2.18440437e-01, 4.16509948e-01]],\n",
              "\n",
              "       [[8.83280259e-01, 3.24345021e-01, 1.22087955e-01],\n",
              "        [3.56297838e-01, 9.06828442e-01, 2.72132249e-01],\n",
              "        [6.47690121e-01, 5.20376995e-04, 3.52568856e-01]]])"
            ]
          },
          "metadata": {},
          "execution_count": 37
        }
      ],
      "source": [
        "x = np.random.random((3,3,3))\n",
        "x"
      ]
    },
    {
      "cell_type": "markdown",
      "id": "629c0620",
      "metadata": {
        "id": "629c0620"
      },
      "source": [
        "#### 13. Create a 10x10 array with random values and find the minimum and maximum values (★☆☆)"
      ]
    },
    {
      "cell_type": "code",
      "execution_count": 38,
      "id": "0f12525b",
      "metadata": {
        "colab": {
          "base_uri": "https://localhost:8080/"
        },
        "id": "0f12525b",
        "outputId": "2af6e3f8-0dfd-4f97-bc38-7380471566fc"
      },
      "outputs": [
        {
          "data": {
            "text/plain": [
              "array([[38, 28, 14, 42,  7, 20, 38, 18, 22, 10],\n",
              "       [10, 23, 35, 39, 23,  2, 21,  1, 23, 43],\n",
              "       [29, 37,  1, 20, 32, 11, 21, 43, 24, 48],\n",
              "       [26, 41, 27, 15, 14, 46, 43,  2, 36,  6],\n",
              "       [20,  8, 38, 17,  3, 24, 13,  8, 25,  1],\n",
              "       [19, 27, 46,  6, 43,  7, 46, 34, 13, 16],\n",
              "       [35, 39,  3,  1,  5, 41,  3, 28, 17, 25],\n",
              "       [43, 33,  9, 35, 13, 30, 47, 14,  7, 13],\n",
              "       [22, 39, 20, 15, 44, 17, 46, 23, 25, 24],\n",
              "       [44, 40, 28, 14, 44,  0, 24,  6,  8, 23]])"
            ]
          },
          "execution_count": 38,
          "metadata": {},
          "output_type": "execute_result"
        }
      ],
      "source": [
        "np.random.seed(42)\n",
        "x = np.random.randint(0 , 49 , (10,10) , )\n",
        "x\n"
      ]
    },
    {
      "cell_type": "markdown",
      "id": "25f9f091",
      "metadata": {
        "id": "25f9f091"
      },
      "source": [
        "#### 14. Create a random vector of size 30 and find the mean value (★☆☆)"
      ]
    },
    {
      "cell_type": "code",
      "execution_count": 39,
      "id": "03dce2ff",
      "metadata": {
        "colab": {
          "base_uri": "https://localhost:8080/"
        },
        "id": "03dce2ff",
        "outputId": "5d3ee32a-e6c4-482e-b42a-e3e4b05c8e78"
      },
      "outputs": [
        {
          "metadata": {
            "tags": null
          },
          "name": "stdout",
          "output_type": "stream",
          "text": [
            "0.498307658869402\n"
          ]
        }
      ],
      "source": [
        "x = np.random.random(30).reshape(10,3)\n",
        "print(x.mean())"
      ]
    },
    {
      "cell_type": "markdown",
      "id": "9c4ac621",
      "metadata": {
        "id": "9c4ac621"
      },
      "source": [
        "#### 15. Create a 2d array with 1 on the border and 0 inside (★☆☆)"
      ]
    },
    {
      "cell_type": "code",
      "source": [],
      "metadata": {
        "id": "zZHxZSM6ijCH"
      },
      "id": "zZHxZSM6ijCH",
      "execution_count": 39,
      "outputs": []
    },
    {
      "cell_type": "code",
      "execution_count": 40,
      "id": "0a811a3b",
      "metadata": {
        "colab": {
          "base_uri": "https://localhost:8080/"
        },
        "id": "0a811a3b",
        "outputId": "bb35f3bf-bb28-4d4a-a794-14835431681b"
      },
      "outputs": [
        {
          "data": {
            "text/plain": [
              "array([[1., 1., 1.],\n",
              "       [1., 0., 1.],\n",
              "       [1., 1., 1.]])"
            ]
          },
          "execution_count": 40,
          "metadata": {},
          "output_type": "execute_result"
        }
      ],
      "source": [
        "# for 3x3 matrix\n",
        "x = np.ones((3,3))\n",
        "x[1][1] = 0\n",
        "x"
      ]
    },
    {
      "cell_type": "markdown",
      "id": "c0110caf",
      "metadata": {
        "id": "c0110caf"
      },
      "source": [
        "#### 16. How to add a border (filled with 0's) around an existing array? (★☆☆)"
      ]
    },
    {
      "cell_type": "code",
      "execution_count": 40,
      "id": "5e461b43",
      "metadata": {
        "id": "5e461b43"
      },
      "outputs": [],
      "source": []
    },
    {
      "cell_type": "markdown",
      "id": "c097faee",
      "metadata": {
        "id": "c097faee"
      },
      "source": [
        "#### 17. What is the result of the following expression? (★☆☆)\n",
        "```python\n",
        "0 * np.nan\n",
        "np.nan == np.nan\n",
        "np.inf > np.nan\n",
        "np.nan - np.nan\n",
        "np.nan in set([np.nan])\n",
        "0.3 == 3 * 0.1\n",
        "```"
      ]
    },
    {
      "cell_type": "code",
      "execution_count": 41,
      "id": "de307b6d",
      "metadata": {
        "id": "de307b6d",
        "colab": {
          "base_uri": "https://localhost:8080/"
        },
        "outputId": "431e70ed-5ee8-4a6f-ddb5-71a4a00d6bed"
      },
      "outputs": [
        {
          "data": {
            "text/plain": [
              "False"
            ]
          },
          "execution_count": 41,
          "metadata": {},
          "output_type": "execute_result"
        }
      ],
      "source": [
        "bool(0)"
      ]
    },
    {
      "cell_type": "markdown",
      "id": "7539be84",
      "metadata": {
        "id": "7539be84"
      },
      "source": [
        "#### 18. Create a 5x5 matrix with values 1,2,3,4 just below the diagonal (★☆☆)"
      ]
    },
    {
      "cell_type": "code",
      "execution_count": 73,
      "id": "897eeebd",
      "metadata": {
        "id": "897eeebd",
        "colab": {
          "base_uri": "https://localhost:8080/"
        },
        "outputId": "17c55896-b421-465c-fe04-2cbc74453b57"
      },
      "outputs": [
        {
          "output_type": "stream",
          "name": "stdout",
          "text": [
            "[[0 0 0 0 0]\n",
            " [1 0 0 0 0]\n",
            " [0 2 0 0 0]\n",
            " [0 0 3 0 0]\n",
            " [0 0 0 4 0]]\n"
          ]
        }
      ],
      "source": [
        "# x = np.diag(1-).reshape(5,5)\n",
        "# x\n",
        "# y = (x[1:0 , 4:2]+1)\n",
        "# y\n",
        "\n",
        "\n",
        "Z = np.diag(1+np.arange(4),k=-1 )\n",
        "print(Z)"
      ]
    },
    {
      "cell_type": "markdown",
      "id": "69207418",
      "metadata": {
        "id": "69207418"
      },
      "source": [
        "#### 19. Create a 8x8 matrix and fill it with a checkerboard pattern (★☆☆)"
      ]
    },
    {
      "cell_type": "code",
      "execution_count": 83,
      "id": "da9fc94e",
      "metadata": {
        "id": "da9fc94e",
        "colab": {
          "base_uri": "https://localhost:8080/"
        },
        "outputId": "ef8da031-8960-44a3-d3c7-d71e3d0185aa"
      },
      "outputs": [
        {
          "output_type": "execute_result",
          "data": {
            "text/plain": [
              "array([[1., 0., 1., 0., 1., 0., 1., 0.],\n",
              "       [0., 1., 0., 1., 0., 1., 0., 1.],\n",
              "       [1., 0., 1., 0., 1., 0., 1., 0.],\n",
              "       [0., 1., 0., 1., 0., 1., 0., 1.],\n",
              "       [1., 0., 1., 0., 1., 0., 1., 0.],\n",
              "       [0., 1., 0., 1., 0., 1., 0., 1.],\n",
              "       [1., 0., 1., 0., 1., 0., 1., 0.],\n",
              "       [0., 1., 0., 1., 0., 1., 0., 1.]])"
            ]
          },
          "metadata": {},
          "execution_count": 83
        }
      ],
      "source": [
        "x  = np.zeros((8,8))\n",
        "\n",
        "\n",
        "for i in range(8):\n",
        "  for j in range(8):\n",
        "    if ((i+j) % 2 ==0):\n",
        "      x[i][j] +=1\n",
        "\n",
        "x\n",
        "\n"
      ]
    },
    {
      "cell_type": "markdown",
      "id": "aeb836d2",
      "metadata": {
        "id": "aeb836d2"
      },
      "source": [
        "#### 20. Consider a (6,7,8) shape array, what is the index (x,y,z) of the 100th element? (★☆☆)"
      ]
    },
    {
      "cell_type": "code",
      "execution_count": 89,
      "id": "c026c791",
      "metadata": {
        "id": "c026c791",
        "colab": {
          "base_uri": "https://localhost:8080/"
        },
        "outputId": "00fd322c-137e-433e-b479-aa17e92f1778"
      },
      "outputs": [
        {
          "output_type": "stream",
          "name": "stdout",
          "text": [
            "1 3 5\n"
          ]
        }
      ],
      "source": [
        "\n",
        "count = 0\n",
        "for i in range(6):\n",
        "  count +=1\n",
        "  for j in range(7):\n",
        "    count +=1\n",
        "    for k in range(8):\n",
        "      count+=1\n",
        "      if (count == 99):\n",
        "        print(i,j,k)\n",
        "\n",
        "\n"
      ]
    },
    {
      "cell_type": "markdown",
      "id": "9aef01d6",
      "metadata": {
        "id": "9aef01d6"
      },
      "source": [
        "#### 21. Create a checkerboard 8x8 matrix using the tile function (★☆☆)"
      ]
    },
    {
      "cell_type": "code",
      "execution_count": 99,
      "id": "1cdf747e",
      "metadata": {
        "id": "1cdf747e",
        "colab": {
          "base_uri": "https://localhost:8080/"
        },
        "outputId": "c0739f3f-8a7e-4976-ac27-84975306e58e"
      },
      "outputs": [
        {
          "output_type": "stream",
          "name": "stdout",
          "text": [
            "[[0 1 0 0 1 0 0 1 0 0 1 0]\n",
            " [1 0 1 1 0 1 1 0 1 1 0 1]\n",
            " [0 1 0 0 1 0 0 1 0 0 1 0]\n",
            " [1 0 1 1 0 1 1 0 1 1 0 1]\n",
            " [0 1 0 0 1 0 0 1 0 0 1 0]\n",
            " [1 0 1 1 0 1 1 0 1 1 0 1]\n",
            " [0 1 0 0 1 0 0 1 0 0 1 0]\n",
            " [1 0 1 1 0 1 1 0 1 1 0 1]]\n",
            "\n",
            " \n",
            "  12 x 12 Matrix\n"
          ]
        }
      ],
      "source": [
        "Z = np.tile( np.array([[0,1 , 0],[1,0 , 1]]), (4,4))\n",
        "print(Z)\n",
        "\n",
        "print(\"\\n \\n  12 x 12 Matrix\")"
      ]
    },
    {
      "cell_type": "code",
      "source": [
        "Z = np.tile( np.array([[0,1 ],[1,0 ]]), (4,4))\n",
        "print(Z)\n",
        "print(\" \\n \\n 8 x 8 Matrix\")"
      ],
      "metadata": {
        "colab": {
          "base_uri": "https://localhost:8080/"
        },
        "id": "yrafJ6mNyv4D",
        "outputId": "4c3dd77f-35dd-4644-bced-bfd5dd649373"
      },
      "id": "yrafJ6mNyv4D",
      "execution_count": 100,
      "outputs": [
        {
          "output_type": "stream",
          "name": "stdout",
          "text": [
            "[[0 1 0 1 0 1 0 1]\n",
            " [1 0 1 0 1 0 1 0]\n",
            " [0 1 0 1 0 1 0 1]\n",
            " [1 0 1 0 1 0 1 0]\n",
            " [0 1 0 1 0 1 0 1]\n",
            " [1 0 1 0 1 0 1 0]\n",
            " [0 1 0 1 0 1 0 1]\n",
            " [1 0 1 0 1 0 1 0]]\n",
            " \n",
            " \n",
            " 8 x 8 Matrix\n"
          ]
        }
      ]
    },
    {
      "cell_type": "markdown",
      "id": "931830f8",
      "metadata": {
        "id": "931830f8"
      },
      "source": [
        "#### 22. Normalize a 5x5 random matrix (★☆☆)"
      ]
    },
    {
      "cell_type": "code",
      "execution_count": 117,
      "id": "1d081cd3",
      "metadata": {
        "id": "1d081cd3",
        "colab": {
          "base_uri": "https://localhost:8080/"
        },
        "outputId": "9b941b60-6385-4e15-b235-b6440af21d53"
      },
      "outputs": [
        {
          "output_type": "execute_result",
          "data": {
            "text/plain": [
              "array([[0.75      , 0.04166667, 0.625     , 0.83333333, 0.08333333],\n",
              "       [0.33333333, 0.70833333, 0.95833333, 0.125     , 0.25      ],\n",
              "       [0.54166667, 0.5       , 0.45833333, 0.91666667, 0.29166667],\n",
              "       [0.        , 0.16666667, 0.41666667, 0.58333333, 0.20833333],\n",
              "       [0.375     , 0.79166667, 0.66666667, 1.        , 0.875     ]])"
            ]
          },
          "metadata": {},
          "execution_count": 117
        }
      ],
      "source": [
        "b = np.random.choice(np.arange(1,26), (5,5) , replace = False)\n",
        "b\n",
        "norm = (b-b.min())/(b.max()-b.min())\n",
        "norm\n",
        "\n",
        "\n",
        "# normalized_b = (b - b.min()) / (b.max() - b.min())\n",
        "# print(\"Normalized Array:\\n\", normalized_b)"
      ]
    },
    {
      "cell_type": "markdown",
      "id": "5f3b5379",
      "metadata": {
        "id": "5f3b5379"
      },
      "source": [
        "#### 23. Create a custom dtype that describes a color as four unsigned bytes (RGBA) (★☆☆)"
      ]
    },
    {
      "cell_type": "code",
      "execution_count": 131,
      "id": "56847b08",
      "metadata": {
        "id": "56847b08"
      },
      "outputs": [],
      "source": [
        "color = np.dtype([(\"r\",np.ubyte),\n",
        "                  (\"g\",np.ubyte),\n",
        "                  (\"b\",np.ubyte),\n",
        "                  (\"a\",np.ubyte)\n",
        "                  ])"
      ]
    },
    {
      "cell_type": "markdown",
      "id": "27294dd6",
      "metadata": {
        "id": "27294dd6"
      },
      "source": [
        "#### 24. Multiply a 5x3 matrix by a 3x2 matrix (real matrix product) (★☆☆)"
      ]
    },
    {
      "cell_type": "code",
      "execution_count": 134,
      "id": "5b219d77",
      "metadata": {
        "id": "5b219d77",
        "colab": {
          "base_uri": "https://localhost:8080/"
        },
        "outputId": "fcf15582-c2d9-47da-a9fb-9b5afce94574"
      },
      "outputs": [
        {
          "output_type": "execute_result",
          "data": {
            "text/plain": [
              "array([[ 10,  13],\n",
              "       [ 28,  40],\n",
              "       [ 46,  67],\n",
              "       [ 64,  94],\n",
              "       [ 82, 121]])"
            ]
          },
          "metadata": {},
          "execution_count": 134
        }
      ],
      "source": [
        "a = np.arange(15).reshape(5,3)\n",
        "b = np.arange(6).reshape(3,2)\n",
        "np.dot(a,b)"
      ]
    },
    {
      "cell_type": "markdown",
      "id": "57a463f5",
      "metadata": {
        "id": "57a463f5"
      },
      "source": [
        "#### 25. Given a 1D array, negate all elements which are between 3 and 8, in place. (★☆☆)"
      ]
    },
    {
      "cell_type": "code",
      "execution_count": 139,
      "id": "1137097c",
      "metadata": {
        "id": "1137097c",
        "colab": {
          "base_uri": "https://localhost:8080/"
        },
        "outputId": "ef6e2553-e5af-4a4f-97f2-26f52aa0a3c9"
      },
      "outputs": [
        {
          "output_type": "execute_result",
          "data": {
            "text/plain": [
              "array([ 0,  1,  2, -3, -4, -5, -6, -7, -8,  9])"
            ]
          },
          "metadata": {},
          "execution_count": 139
        }
      ],
      "source": [
        "n = 10\n",
        "a = np.arange(n)\n",
        "for i in range(n):\n",
        "  if a[i] in range(3,9):\n",
        "    a[i] = -a[i]\n",
        "    # here we can print by multiplying as well by -1\n",
        "a"
      ]
    },
    {
      "cell_type": "markdown",
      "id": "4ec37bca",
      "metadata": {
        "id": "4ec37bca"
      },
      "source": [
        "#### 26. What is the output of the following script? (★☆☆)\n",
        "```python\n",
        "# Author: Jake VanderPlas\n",
        "\n",
        "print(sum(range(5),-1))\n",
        "from numpy import *\n",
        "print(sum(range(5),-1))\n",
        "```"
      ]
    },
    {
      "cell_type": "code",
      "execution_count": 142,
      "id": "ae0f3d30",
      "metadata": {
        "id": "ae0f3d30",
        "colab": {
          "base_uri": "https://localhost:8080/"
        },
        "outputId": "1e4be0e7-f49a-49ff-9b60-994d58f26611"
      },
      "outputs": [
        {
          "output_type": "stream",
          "name": "stdout",
          "text": [
            "10\n"
          ]
        }
      ],
      "source": [
        "print(sum(range(5),-1))\n",
        "# from numpy import *\n",
        "# print(sum(range(5),-1))\n"
      ]
    },
    {
      "cell_type": "markdown",
      "id": "fb875416",
      "metadata": {
        "id": "fb875416"
      },
      "source": [
        "#### 27. Consider an integer vector Z, which of these expressions are legal? (★☆☆)\n",
        "```python\n",
        "Z**Z\n",
        "2 << Z >> 2\n",
        "Z <- Z\n",
        "1j*Z\n",
        "Z/1/1\n",
        "Z<Z>Z\n",
        "```"
      ]
    },
    {
      "cell_type": "code",
      "execution_count": null,
      "id": "0b516d7c",
      "metadata": {
        "id": "0b516d7c"
      },
      "outputs": [],
      "source": []
    },
    {
      "cell_type": "markdown",
      "id": "3322bcc4",
      "metadata": {
        "id": "3322bcc4"
      },
      "source": [
        "#### 28. What are the result of the following expressions? (★☆☆)\n",
        "```python\n",
        "np.array(0) / np.array(0)\n",
        "np.array(0) // np.array(0)\n",
        "np.array([np.nan]).astype(int).astype(float)\n",
        "```"
      ]
    },
    {
      "cell_type": "code",
      "execution_count": null,
      "id": "68a40ed3",
      "metadata": {
        "id": "68a40ed3"
      },
      "outputs": [],
      "source": []
    },
    {
      "cell_type": "markdown",
      "id": "e85dae57",
      "metadata": {
        "id": "e85dae57"
      },
      "source": [
        "#### 29. How to round away from zero a float array ? (★☆☆)"
      ]
    },
    {
      "cell_type": "code",
      "execution_count": null,
      "id": "8981d8e2",
      "metadata": {
        "id": "8981d8e2"
      },
      "outputs": [],
      "source": []
    },
    {
      "cell_type": "markdown",
      "id": "3d78851a",
      "metadata": {
        "id": "3d78851a"
      },
      "source": [
        "#### 30. How to find common values between two arrays? (★☆☆)"
      ]
    },
    {
      "cell_type": "code",
      "execution_count": null,
      "id": "ca4b0788",
      "metadata": {
        "id": "ca4b0788"
      },
      "outputs": [],
      "source": []
    },
    {
      "cell_type": "markdown",
      "id": "535563a3",
      "metadata": {
        "id": "535563a3"
      },
      "source": [
        "#### 31. How to ignore all numpy warnings (not recommended)? (★☆☆)"
      ]
    },
    {
      "cell_type": "code",
      "execution_count": null,
      "id": "b1884a9f",
      "metadata": {
        "id": "b1884a9f"
      },
      "outputs": [],
      "source": []
    },
    {
      "cell_type": "markdown",
      "id": "9ff18333",
      "metadata": {
        "id": "9ff18333"
      },
      "source": [
        "#### 32. Is the following expressions true? (★☆☆)\n",
        "```python\n",
        "np.sqrt(-1) == np.emath.sqrt(-1)\n",
        "```"
      ]
    },
    {
      "cell_type": "code",
      "execution_count": null,
      "id": "b47e3ad5",
      "metadata": {
        "id": "b47e3ad5"
      },
      "outputs": [],
      "source": []
    },
    {
      "cell_type": "markdown",
      "id": "94dfbdcb",
      "metadata": {
        "id": "94dfbdcb"
      },
      "source": [
        "#### 33. How to get the dates of yesterday, today and tomorrow? (★☆☆)"
      ]
    },
    {
      "cell_type": "code",
      "execution_count": null,
      "id": "3f686831",
      "metadata": {
        "id": "3f686831"
      },
      "outputs": [],
      "source": []
    },
    {
      "cell_type": "markdown",
      "id": "eb1816a2",
      "metadata": {
        "id": "eb1816a2"
      },
      "source": [
        "#### 34. How to get all the dates corresponding to the month of July 2016? (★★☆)"
      ]
    },
    {
      "cell_type": "code",
      "execution_count": null,
      "id": "963239fb",
      "metadata": {
        "id": "963239fb"
      },
      "outputs": [],
      "source": []
    },
    {
      "cell_type": "markdown",
      "id": "9174632a",
      "metadata": {
        "id": "9174632a"
      },
      "source": [
        "#### 35. How to compute ((A+B)*(-A/2)) in place (without copy)? (★★☆)"
      ]
    },
    {
      "cell_type": "code",
      "execution_count": null,
      "id": "660f5868",
      "metadata": {
        "id": "660f5868"
      },
      "outputs": [],
      "source": []
    },
    {
      "cell_type": "markdown",
      "id": "b6b4504d",
      "metadata": {
        "id": "b6b4504d"
      },
      "source": [
        "#### 36. Extract the integer part of a random array of positive numbers using 4 different methods (★★☆)"
      ]
    },
    {
      "cell_type": "code",
      "execution_count": null,
      "id": "a125254d",
      "metadata": {
        "id": "a125254d"
      },
      "outputs": [],
      "source": []
    },
    {
      "cell_type": "markdown",
      "id": "dcd769b0",
      "metadata": {
        "id": "dcd769b0"
      },
      "source": [
        "#### 37. Create a 5x5 matrix with row values ranging from 0 to 4 (★★☆)"
      ]
    },
    {
      "cell_type": "code",
      "execution_count": null,
      "id": "6e5f39c8",
      "metadata": {
        "id": "6e5f39c8"
      },
      "outputs": [],
      "source": []
    },
    {
      "cell_type": "markdown",
      "id": "83642768",
      "metadata": {
        "id": "83642768"
      },
      "source": [
        "#### 38. Consider a generator function that generates 10 integers and use it to build an array (★☆☆)"
      ]
    },
    {
      "cell_type": "code",
      "execution_count": null,
      "id": "a24bdb56",
      "metadata": {
        "id": "a24bdb56"
      },
      "outputs": [],
      "source": []
    },
    {
      "cell_type": "markdown",
      "id": "8ab76708",
      "metadata": {
        "id": "8ab76708"
      },
      "source": [
        "#### 39. Create a vector of size 10 with values ranging from 0 to 1, both excluded (★★☆)"
      ]
    },
    {
      "cell_type": "code",
      "execution_count": null,
      "id": "2b66dc48",
      "metadata": {
        "id": "2b66dc48"
      },
      "outputs": [],
      "source": []
    },
    {
      "cell_type": "markdown",
      "id": "a77ffeff",
      "metadata": {
        "id": "a77ffeff"
      },
      "source": [
        "#### 40. Create a random vector of size 10 and sort it (★★☆)"
      ]
    },
    {
      "cell_type": "code",
      "execution_count": null,
      "id": "4bd4613d",
      "metadata": {
        "id": "4bd4613d"
      },
      "outputs": [],
      "source": []
    },
    {
      "cell_type": "markdown",
      "id": "0f131622",
      "metadata": {
        "id": "0f131622"
      },
      "source": [
        "#### 41. How to sum a small array faster than np.sum? (★★☆)"
      ]
    },
    {
      "cell_type": "code",
      "execution_count": null,
      "id": "50006b4f",
      "metadata": {
        "id": "50006b4f"
      },
      "outputs": [],
      "source": []
    },
    {
      "cell_type": "markdown",
      "id": "0205ef5d",
      "metadata": {
        "id": "0205ef5d"
      },
      "source": [
        "#### 42. Consider two random arrays A and B, check if they are equal (★★☆)"
      ]
    },
    {
      "cell_type": "code",
      "execution_count": 42,
      "id": "33df1c36",
      "metadata": {
        "id": "33df1c36"
      },
      "outputs": [],
      "source": []
    },
    {
      "cell_type": "markdown",
      "id": "be053e5d",
      "metadata": {
        "id": "be053e5d"
      },
      "source": [
        "#### 43. Make an array immutable (read-only) (★★☆)"
      ]
    },
    {
      "cell_type": "code",
      "execution_count": 42,
      "id": "060a0518",
      "metadata": {
        "id": "060a0518"
      },
      "outputs": [],
      "source": []
    },
    {
      "cell_type": "markdown",
      "id": "92732bec",
      "metadata": {
        "id": "92732bec"
      },
      "source": [
        "#### 44. Consider a random 10x2 matrix representing cartesian coordinates, convert them to polar coordinates (★★☆)"
      ]
    },
    {
      "cell_type": "code",
      "execution_count": 42,
      "id": "d4f46c96",
      "metadata": {
        "id": "d4f46c96"
      },
      "outputs": [],
      "source": []
    },
    {
      "cell_type": "markdown",
      "id": "1f75774a",
      "metadata": {
        "id": "1f75774a"
      },
      "source": [
        "#### 45. Create random vector of size 10 and replace the maximum value by 0 (★★☆)"
      ]
    },
    {
      "cell_type": "code",
      "execution_count": 42,
      "id": "812354bf",
      "metadata": {
        "id": "812354bf"
      },
      "outputs": [],
      "source": []
    },
    {
      "cell_type": "markdown",
      "id": "ed8431ad",
      "metadata": {
        "id": "ed8431ad"
      },
      "source": [
        "#### 46. Create a structured array with `x` and `y` coordinates covering the [0,1]x[0,1] area (★★☆)"
      ]
    },
    {
      "cell_type": "code",
      "execution_count": 42,
      "id": "f0966336",
      "metadata": {
        "id": "f0966336"
      },
      "outputs": [],
      "source": []
    },
    {
      "cell_type": "markdown",
      "id": "34250c0f",
      "metadata": {
        "id": "34250c0f"
      },
      "source": [
        "#### 47. Given two arrays, X and Y, construct the Cauchy matrix C (Cij =1/(xi - yj)) (★★☆)"
      ]
    },
    {
      "cell_type": "code",
      "execution_count": 42,
      "id": "e8a7ac1a",
      "metadata": {
        "id": "e8a7ac1a"
      },
      "outputs": [],
      "source": []
    },
    {
      "cell_type": "markdown",
      "id": "5418176b",
      "metadata": {
        "id": "5418176b"
      },
      "source": [
        "#### 48. Print the minimum and maximum representable values for each numpy scalar type (★★☆)"
      ]
    },
    {
      "cell_type": "code",
      "execution_count": 42,
      "id": "ad633154",
      "metadata": {
        "id": "ad633154"
      },
      "outputs": [],
      "source": []
    },
    {
      "cell_type": "markdown",
      "id": "1d868ac4",
      "metadata": {
        "id": "1d868ac4"
      },
      "source": [
        "#### 49. How to print all the values of an array? (★★☆)"
      ]
    },
    {
      "cell_type": "code",
      "execution_count": 42,
      "id": "d12c9111",
      "metadata": {
        "id": "d12c9111"
      },
      "outputs": [],
      "source": []
    },
    {
      "cell_type": "markdown",
      "id": "c5f1c082",
      "metadata": {
        "id": "c5f1c082"
      },
      "source": [
        "#### 50. How to find the closest value (to a given scalar) in a vector? (★★☆)"
      ]
    },
    {
      "cell_type": "code",
      "execution_count": 42,
      "id": "4374f950",
      "metadata": {
        "id": "4374f950"
      },
      "outputs": [],
      "source": []
    },
    {
      "cell_type": "markdown",
      "id": "91d0c841",
      "metadata": {
        "id": "91d0c841"
      },
      "source": [
        "#### 51. Create a structured array representing a position (x,y) and a color (r,g,b) (★★☆)"
      ]
    },
    {
      "cell_type": "code",
      "execution_count": 42,
      "id": "11b8fc88",
      "metadata": {
        "id": "11b8fc88"
      },
      "outputs": [],
      "source": []
    },
    {
      "cell_type": "markdown",
      "id": "076d36d7",
      "metadata": {
        "id": "076d36d7"
      },
      "source": [
        "#### 52. Consider a random vector with shape (100,2) representing coordinates, find point by point distances (★★☆)"
      ]
    },
    {
      "cell_type": "code",
      "execution_count": 42,
      "id": "14c1ff07",
      "metadata": {
        "id": "14c1ff07"
      },
      "outputs": [],
      "source": []
    },
    {
      "cell_type": "markdown",
      "id": "3581ca30",
      "metadata": {
        "id": "3581ca30"
      },
      "source": [
        "#### 53. How to convert a float (32 bits) array into an integer (32 bits) array in place?"
      ]
    },
    {
      "cell_type": "code",
      "execution_count": 42,
      "id": "72732a66",
      "metadata": {
        "id": "72732a66"
      },
      "outputs": [],
      "source": []
    },
    {
      "cell_type": "markdown",
      "id": "3f440ff2",
      "metadata": {
        "id": "3f440ff2"
      },
      "source": [
        "#### 54. How to read the following file? (★★☆)\n",
        "```\n",
        "1, 2, 3, 4, 5\n",
        "6,  ,  , 7, 8\n",
        " ,  , 9,10,11\n",
        "```"
      ]
    },
    {
      "cell_type": "code",
      "execution_count": 42,
      "id": "9d03d55d",
      "metadata": {
        "id": "9d03d55d"
      },
      "outputs": [],
      "source": []
    },
    {
      "cell_type": "markdown",
      "id": "8ef1aff5",
      "metadata": {
        "id": "8ef1aff5"
      },
      "source": [
        "#### 55. What is the equivalent of enumerate for numpy arrays? (★★☆)"
      ]
    },
    {
      "cell_type": "code",
      "execution_count": 42,
      "id": "bc1cfb8e",
      "metadata": {
        "id": "bc1cfb8e"
      },
      "outputs": [],
      "source": []
    },
    {
      "cell_type": "markdown",
      "id": "b8737694",
      "metadata": {
        "id": "b8737694"
      },
      "source": [
        "#### 56. Generate a generic 2D Gaussian-like array (★★☆)"
      ]
    },
    {
      "cell_type": "code",
      "execution_count": 42,
      "id": "e38c976d",
      "metadata": {
        "id": "e38c976d"
      },
      "outputs": [],
      "source": []
    },
    {
      "cell_type": "markdown",
      "id": "1f7a093e",
      "metadata": {
        "id": "1f7a093e"
      },
      "source": [
        "#### 57. How to randomly place p elements in a 2D array? (★★☆)"
      ]
    },
    {
      "cell_type": "code",
      "execution_count": 42,
      "id": "aa14eab2",
      "metadata": {
        "id": "aa14eab2"
      },
      "outputs": [],
      "source": []
    },
    {
      "cell_type": "markdown",
      "id": "4b1f4144",
      "metadata": {
        "id": "4b1f4144"
      },
      "source": [
        "#### 58. Subtract the mean of each row of a matrix (★★☆)"
      ]
    },
    {
      "cell_type": "code",
      "execution_count": 42,
      "id": "39be0ed4",
      "metadata": {
        "id": "39be0ed4"
      },
      "outputs": [],
      "source": []
    },
    {
      "cell_type": "markdown",
      "id": "36c47776",
      "metadata": {
        "id": "36c47776"
      },
      "source": [
        "#### 59. How to sort an array by the nth column? (★★☆)"
      ]
    },
    {
      "cell_type": "code",
      "execution_count": 42,
      "id": "43867c6a",
      "metadata": {
        "id": "43867c6a"
      },
      "outputs": [],
      "source": []
    },
    {
      "cell_type": "markdown",
      "id": "d798a57f",
      "metadata": {
        "id": "d798a57f"
      },
      "source": [
        "#### 60. How to tell if a given 2D array has null columns? (★★☆)"
      ]
    },
    {
      "cell_type": "code",
      "execution_count": 42,
      "id": "d2059b5c",
      "metadata": {
        "id": "d2059b5c"
      },
      "outputs": [],
      "source": []
    },
    {
      "cell_type": "markdown",
      "id": "eee145c4",
      "metadata": {
        "id": "eee145c4"
      },
      "source": [
        "#### 61. Find the nearest value from a given value in an array (★★☆)"
      ]
    },
    {
      "cell_type": "code",
      "execution_count": 42,
      "id": "1b1b5829",
      "metadata": {
        "id": "1b1b5829"
      },
      "outputs": [],
      "source": []
    },
    {
      "cell_type": "markdown",
      "id": "745bdd9a",
      "metadata": {
        "id": "745bdd9a"
      },
      "source": [
        "#### 62. Considering two arrays with shape (1,3) and (3,1), how to compute their sum using an iterator? (★★☆)"
      ]
    },
    {
      "cell_type": "code",
      "execution_count": 42,
      "id": "3a9859f9",
      "metadata": {
        "id": "3a9859f9"
      },
      "outputs": [],
      "source": []
    },
    {
      "cell_type": "markdown",
      "id": "652b80f0",
      "metadata": {
        "id": "652b80f0"
      },
      "source": [
        "#### 63. Create an array class that has a name attribute (★★☆)"
      ]
    },
    {
      "cell_type": "code",
      "execution_count": 42,
      "id": "cfe2e2a7",
      "metadata": {
        "id": "cfe2e2a7"
      },
      "outputs": [],
      "source": []
    },
    {
      "cell_type": "markdown",
      "id": "58349a3a",
      "metadata": {
        "id": "58349a3a"
      },
      "source": [
        "#### 64. Consider a given vector, how to add 1 to each element indexed by a second vector (be careful with repeated indices)? (★★★)"
      ]
    },
    {
      "cell_type": "code",
      "execution_count": 42,
      "id": "7d5f94a6",
      "metadata": {
        "id": "7d5f94a6"
      },
      "outputs": [],
      "source": []
    },
    {
      "cell_type": "markdown",
      "id": "13247c07",
      "metadata": {
        "id": "13247c07"
      },
      "source": [
        "#### 65. How to accumulate elements of a vector (X) to an array (F) based on an index list (I)? (★★★)"
      ]
    },
    {
      "cell_type": "code",
      "execution_count": 42,
      "id": "074b5598",
      "metadata": {
        "id": "074b5598"
      },
      "outputs": [],
      "source": []
    },
    {
      "cell_type": "markdown",
      "id": "8996b4be",
      "metadata": {
        "id": "8996b4be"
      },
      "source": [
        "#### 66. Considering a (w,h,3) image of (dtype=ubyte), compute the number of unique colors (★★☆)"
      ]
    },
    {
      "cell_type": "code",
      "execution_count": 42,
      "id": "4541bada",
      "metadata": {
        "id": "4541bada"
      },
      "outputs": [],
      "source": []
    },
    {
      "cell_type": "markdown",
      "id": "1de1a251",
      "metadata": {
        "id": "1de1a251"
      },
      "source": [
        "#### 67. Considering a four dimensions array, how to get sum over the last two axis at once? (★★★)"
      ]
    },
    {
      "cell_type": "code",
      "execution_count": 42,
      "id": "855d4734",
      "metadata": {
        "id": "855d4734"
      },
      "outputs": [],
      "source": []
    },
    {
      "cell_type": "markdown",
      "id": "2c3a49fa",
      "metadata": {
        "id": "2c3a49fa"
      },
      "source": [
        "#### 68. Considering a one-dimensional vector D, how to compute means of subsets of D using a vector S of same size describing subset  indices? (★★★)"
      ]
    },
    {
      "cell_type": "code",
      "execution_count": 42,
      "id": "9785a70e",
      "metadata": {
        "id": "9785a70e"
      },
      "outputs": [],
      "source": []
    },
    {
      "cell_type": "markdown",
      "id": "d97e5ce6",
      "metadata": {
        "id": "d97e5ce6"
      },
      "source": [
        "#### 69. How to get the diagonal of a dot product? (★★★)"
      ]
    },
    {
      "cell_type": "code",
      "execution_count": 42,
      "id": "b8adf4c7",
      "metadata": {
        "id": "b8adf4c7"
      },
      "outputs": [],
      "source": []
    },
    {
      "cell_type": "markdown",
      "id": "59f04026",
      "metadata": {
        "id": "59f04026"
      },
      "source": [
        "#### 70. Consider the vector [1, 2, 3, 4, 5], how to build a new vector with 3 consecutive zeros interleaved between each value? (★★★)"
      ]
    },
    {
      "cell_type": "code",
      "execution_count": 42,
      "id": "9bf72549",
      "metadata": {
        "id": "9bf72549"
      },
      "outputs": [],
      "source": []
    },
    {
      "cell_type": "markdown",
      "id": "5915be32",
      "metadata": {
        "id": "5915be32"
      },
      "source": [
        "#### 71. Consider an array of dimension (5,5,3), how to multiply it by an array with dimensions (5,5)? (★★★)"
      ]
    },
    {
      "cell_type": "code",
      "execution_count": 42,
      "id": "615685a1",
      "metadata": {
        "id": "615685a1"
      },
      "outputs": [],
      "source": []
    },
    {
      "cell_type": "markdown",
      "id": "88afd68d",
      "metadata": {
        "id": "88afd68d"
      },
      "source": [
        "#### 72. How to swap two rows of an array? (★★★)"
      ]
    },
    {
      "cell_type": "code",
      "execution_count": 42,
      "id": "ab382690",
      "metadata": {
        "id": "ab382690"
      },
      "outputs": [],
      "source": []
    },
    {
      "cell_type": "markdown",
      "id": "103b64e3",
      "metadata": {
        "id": "103b64e3"
      },
      "source": [
        "#### 73. Consider a set of 10 triplets describing 10 triangles (with shared vertices), find the set of unique line segments composing all the  triangles (★★★)"
      ]
    },
    {
      "cell_type": "code",
      "execution_count": 42,
      "id": "ea64e9b8",
      "metadata": {
        "id": "ea64e9b8"
      },
      "outputs": [],
      "source": []
    },
    {
      "cell_type": "markdown",
      "id": "69e0c2c7",
      "metadata": {
        "id": "69e0c2c7"
      },
      "source": [
        "#### 74. Given a sorted array C that corresponds to a bincount, how to produce an array A such that np.bincount(A) == C? (★★★)"
      ]
    },
    {
      "cell_type": "code",
      "execution_count": 42,
      "id": "7935210d",
      "metadata": {
        "id": "7935210d"
      },
      "outputs": [],
      "source": []
    },
    {
      "cell_type": "markdown",
      "id": "a217bfc5",
      "metadata": {
        "id": "a217bfc5"
      },
      "source": [
        "#### 75. How to compute averages using a sliding window over an array? (★★★)"
      ]
    },
    {
      "cell_type": "code",
      "execution_count": 42,
      "id": "16cd9bde",
      "metadata": {
        "id": "16cd9bde"
      },
      "outputs": [],
      "source": []
    },
    {
      "cell_type": "markdown",
      "id": "1da33793",
      "metadata": {
        "id": "1da33793"
      },
      "source": [
        "#### 76. Consider a one-dimensional array Z, build a two-dimensional array whose first row is (Z[0],Z[1],Z[2]) and each subsequent row is  shifted by 1 (last row should be (Z[-3],Z[-2],Z[-1]) (★★★)"
      ]
    },
    {
      "cell_type": "code",
      "execution_count": 42,
      "id": "8059a53b",
      "metadata": {
        "id": "8059a53b"
      },
      "outputs": [],
      "source": []
    },
    {
      "cell_type": "markdown",
      "id": "f6c798af",
      "metadata": {
        "id": "f6c798af"
      },
      "source": [
        "#### 77. How to negate a boolean, or to change the sign of a float inplace? (★★★)"
      ]
    },
    {
      "cell_type": "code",
      "execution_count": 42,
      "id": "95d52799",
      "metadata": {
        "id": "95d52799"
      },
      "outputs": [],
      "source": []
    },
    {
      "cell_type": "markdown",
      "id": "ed6b13c8",
      "metadata": {
        "id": "ed6b13c8"
      },
      "source": [
        "#### 78. Consider 2 sets of points P0,P1 describing lines (2d) and a point p, how to compute distance from p to each line i (P0[i],P1[i])? (★★★)"
      ]
    },
    {
      "cell_type": "code",
      "execution_count": 42,
      "id": "2870e6b4",
      "metadata": {
        "id": "2870e6b4"
      },
      "outputs": [],
      "source": []
    },
    {
      "cell_type": "markdown",
      "id": "7f9a94ca",
      "metadata": {
        "id": "7f9a94ca"
      },
      "source": [
        "#### 79. Consider 2 sets of points P0,P1 describing lines (2d) and a set of points P, how to compute distance from each point j (P[j]) to each line i (P0[i],P1[i])? (★★★)"
      ]
    },
    {
      "cell_type": "code",
      "execution_count": 42,
      "id": "de27d0c4",
      "metadata": {
        "id": "de27d0c4"
      },
      "outputs": [],
      "source": []
    },
    {
      "cell_type": "markdown",
      "id": "61709616",
      "metadata": {
        "id": "61709616"
      },
      "source": [
        "#### 80. Consider an arbitrary array, write a function that extracts a subpart with a fixed shape and centered on a given element (pad with a `fill` value when necessary) (★★★)"
      ]
    },
    {
      "cell_type": "code",
      "execution_count": 42,
      "id": "952b826a",
      "metadata": {
        "id": "952b826a"
      },
      "outputs": [],
      "source": []
    },
    {
      "cell_type": "markdown",
      "id": "585a0296",
      "metadata": {
        "id": "585a0296"
      },
      "source": [
        "#### 81. Consider an array Z = [1,2,3,4,5,6,7,8,9,10,11,12,13,14], how to generate an array R = [[1,2,3,4], [2,3,4,5], [3,4,5,6], ..., [11,12,13,14]]? (★★★)"
      ]
    },
    {
      "cell_type": "code",
      "execution_count": 42,
      "id": "66729fa0",
      "metadata": {
        "id": "66729fa0"
      },
      "outputs": [],
      "source": []
    },
    {
      "cell_type": "markdown",
      "id": "f6ea03b3",
      "metadata": {
        "id": "f6ea03b3"
      },
      "source": [
        "#### 82. Compute a matrix rank (★★★)"
      ]
    },
    {
      "cell_type": "code",
      "execution_count": 42,
      "id": "80b6d0f4",
      "metadata": {
        "id": "80b6d0f4"
      },
      "outputs": [],
      "source": []
    },
    {
      "cell_type": "markdown",
      "id": "1ef1692e",
      "metadata": {
        "id": "1ef1692e"
      },
      "source": [
        "#### 83. How to find the most frequent value in an array?"
      ]
    },
    {
      "cell_type": "code",
      "execution_count": 42,
      "id": "de8f66cc",
      "metadata": {
        "id": "de8f66cc"
      },
      "outputs": [],
      "source": []
    },
    {
      "cell_type": "markdown",
      "id": "310aa04e",
      "metadata": {
        "id": "310aa04e"
      },
      "source": [
        "#### 84. Extract all the contiguous 3x3 blocks from a random 10x10 matrix (★★★)"
      ]
    },
    {
      "cell_type": "code",
      "execution_count": 42,
      "id": "f2639e17",
      "metadata": {
        "id": "f2639e17"
      },
      "outputs": [],
      "source": []
    },
    {
      "cell_type": "markdown",
      "id": "cdf46958",
      "metadata": {
        "id": "cdf46958"
      },
      "source": [
        "#### 85. Create a 2D array subclass such that Z[i,j] == Z[j,i] (★★★)"
      ]
    },
    {
      "cell_type": "code",
      "execution_count": 42,
      "id": "7f3cb2c9",
      "metadata": {
        "id": "7f3cb2c9"
      },
      "outputs": [],
      "source": []
    },
    {
      "cell_type": "markdown",
      "id": "9ab6b1ca",
      "metadata": {
        "id": "9ab6b1ca"
      },
      "source": [
        "#### 86. Consider a set of p matrices with shape (n,n) and a set of p vectors with shape (n,1). How to compute the sum of of the p matrix products at once? (result has shape (n,1)) (★★★)"
      ]
    },
    {
      "cell_type": "code",
      "execution_count": 42,
      "id": "a6f93a7b",
      "metadata": {
        "id": "a6f93a7b"
      },
      "outputs": [],
      "source": []
    },
    {
      "cell_type": "markdown",
      "id": "2c8cd60e",
      "metadata": {
        "id": "2c8cd60e"
      },
      "source": [
        "#### 87. Consider a 16x16 array, how to get the block-sum (block size is 4x4)? (★★★)"
      ]
    },
    {
      "cell_type": "code",
      "execution_count": 42,
      "id": "1f8d7f5f",
      "metadata": {
        "id": "1f8d7f5f"
      },
      "outputs": [],
      "source": []
    },
    {
      "cell_type": "markdown",
      "id": "cbd5321e",
      "metadata": {
        "id": "cbd5321e"
      },
      "source": [
        "#### 88. How to implement the Game of Life using numpy arrays? (★★★)"
      ]
    },
    {
      "cell_type": "code",
      "execution_count": 42,
      "id": "a8bd84fd",
      "metadata": {
        "id": "a8bd84fd"
      },
      "outputs": [],
      "source": []
    },
    {
      "cell_type": "markdown",
      "id": "f9c4b416",
      "metadata": {
        "id": "f9c4b416"
      },
      "source": [
        "#### 89. How to get the n largest values of an array (★★★)"
      ]
    },
    {
      "cell_type": "code",
      "execution_count": 42,
      "id": "c4123ace",
      "metadata": {
        "id": "c4123ace"
      },
      "outputs": [],
      "source": []
    },
    {
      "cell_type": "markdown",
      "id": "495897e7",
      "metadata": {
        "id": "495897e7"
      },
      "source": [
        "#### 90. Given an arbitrary number of vectors, build the cartesian product (every combination of every item) (★★★)"
      ]
    },
    {
      "cell_type": "code",
      "execution_count": 42,
      "id": "9a9ed4a7",
      "metadata": {
        "id": "9a9ed4a7"
      },
      "outputs": [],
      "source": []
    },
    {
      "cell_type": "markdown",
      "id": "c26bde0b",
      "metadata": {
        "id": "c26bde0b"
      },
      "source": [
        "#### 91. How to create a record array from a regular array? (★★★)"
      ]
    },
    {
      "cell_type": "code",
      "execution_count": 42,
      "id": "4958f3a6",
      "metadata": {
        "id": "4958f3a6"
      },
      "outputs": [],
      "source": []
    },
    {
      "cell_type": "markdown",
      "id": "d6c5435c",
      "metadata": {
        "id": "d6c5435c"
      },
      "source": [
        "#### 92. Consider a large vector Z, compute Z to the power of 3 using 3 different methods (★★★)"
      ]
    },
    {
      "cell_type": "code",
      "execution_count": 42,
      "id": "5269d1ec",
      "metadata": {
        "id": "5269d1ec"
      },
      "outputs": [],
      "source": []
    },
    {
      "cell_type": "markdown",
      "id": "9f7efc22",
      "metadata": {
        "id": "9f7efc22"
      },
      "source": [
        "#### 93. Consider two arrays A and B of shape (8,3) and (2,2). How to find rows of A that contain elements of each row of B regardless of the order of the elements in B? (★★★)"
      ]
    },
    {
      "cell_type": "code",
      "execution_count": 42,
      "id": "1d9166aa",
      "metadata": {
        "id": "1d9166aa"
      },
      "outputs": [],
      "source": []
    },
    {
      "cell_type": "markdown",
      "id": "2bfe9e3c",
      "metadata": {
        "id": "2bfe9e3c"
      },
      "source": [
        "#### 94. Considering a 10x3 matrix, extract rows with unequal values (e.g. [2,2,3]) (★★★)"
      ]
    },
    {
      "cell_type": "code",
      "execution_count": 42,
      "id": "c00f8f84",
      "metadata": {
        "id": "c00f8f84"
      },
      "outputs": [],
      "source": []
    },
    {
      "cell_type": "markdown",
      "id": "1bebee22",
      "metadata": {
        "id": "1bebee22"
      },
      "source": [
        "#### 95. Convert a vector of ints into a matrix binary representation (★★★)"
      ]
    },
    {
      "cell_type": "code",
      "execution_count": 42,
      "id": "4bf1b73f",
      "metadata": {
        "id": "4bf1b73f"
      },
      "outputs": [],
      "source": []
    },
    {
      "cell_type": "markdown",
      "id": "37acca61",
      "metadata": {
        "id": "37acca61"
      },
      "source": [
        "#### 96. Given a two dimensional array, how to extract unique rows? (★★★)"
      ]
    },
    {
      "cell_type": "code",
      "execution_count": 42,
      "id": "7051b1d7",
      "metadata": {
        "id": "7051b1d7"
      },
      "outputs": [],
      "source": []
    },
    {
      "cell_type": "markdown",
      "id": "6c8a313c",
      "metadata": {
        "id": "6c8a313c"
      },
      "source": [
        "#### 97. Considering 2 vectors A & B, write the einsum equivalent of inner, outer, sum, and mul function (★★★)"
      ]
    },
    {
      "cell_type": "code",
      "execution_count": 42,
      "id": "7bb32dd1",
      "metadata": {
        "id": "7bb32dd1"
      },
      "outputs": [],
      "source": []
    },
    {
      "cell_type": "markdown",
      "id": "dffed116",
      "metadata": {
        "id": "dffed116"
      },
      "source": [
        "#### 98. Considering a path described by two vectors (X,Y), how to sample it using equidistant samples (★★★)?"
      ]
    },
    {
      "cell_type": "code",
      "execution_count": 42,
      "id": "c8a0a05f",
      "metadata": {
        "id": "c8a0a05f"
      },
      "outputs": [],
      "source": []
    },
    {
      "cell_type": "markdown",
      "id": "e2208f4e",
      "metadata": {
        "id": "e2208f4e"
      },
      "source": [
        "#### 99. Given an integer n and a 2D array X, select from X the rows which can be interpreted as draws from a multinomial distribution with n degrees, i.e., the rows which only contain integers and which sum to n. (★★★)"
      ]
    },
    {
      "cell_type": "code",
      "execution_count": 42,
      "id": "5a240dba",
      "metadata": {
        "id": "5a240dba"
      },
      "outputs": [],
      "source": []
    },
    {
      "cell_type": "markdown",
      "id": "21157036",
      "metadata": {
        "id": "21157036"
      },
      "source": [
        "#### 100. Compute bootstrapped 95% confidence intervals for the mean of a 1D array X (i.e., resample the elements of an array with replacement N times, compute the mean of each sample, and then compute percentiles over the means). (★★★)"
      ]
    },
    {
      "cell_type": "code",
      "execution_count": 42,
      "id": "66c8a5db",
      "metadata": {
        "id": "66c8a5db"
      },
      "outputs": [],
      "source": []
    }
  ],
  "metadata": {
    "colab": {
      "provenance": [],
      "include_colab_link": true
    },
    "language_info": {
      "name": "python"
    },
    "kernelspec": {
      "name": "python3",
      "display_name": "Python 3"
    }
  },
  "nbformat": 4,
  "nbformat_minor": 5
}